{
 "cells": [
  {
   "cell_type": "code",
   "execution_count": 4,
   "metadata": {
    "collapsed": true
   },
   "outputs": [],
   "source": [
    "my_list=[1,2,3,4,5]\n",
    "new_list=[7,8,9]"
   ]
  },
  {
   "cell_type": "code",
   "execution_count": 2,
   "metadata": {
    "collapsed": true
   },
   "outputs": [],
   "source": [
    "#merge two lists by keeping the list as a list in the other list\n",
    "my_list.append(new_list)"
   ]
  },
  {
   "cell_type": "code",
   "execution_count": 3,
   "metadata": {
    "collapsed": false
   },
   "outputs": [
    {
     "data": {
      "text/plain": [
       "[1, 2, 3, 4, 5, [7, 8, 9]]"
      ]
     },
     "execution_count": 3,
     "metadata": {},
     "output_type": "execute_result"
    }
   ],
   "source": [
    "my_list"
   ]
  },
  {
   "cell_type": "code",
   "execution_count": 5,
   "metadata": {
    "collapsed": true
   },
   "outputs": [],
   "source": [
    "#merge two lists by unwraping the list  in the other list\n",
    "my_list.extend(new_list)"
   ]
  },
  {
   "cell_type": "code",
   "execution_count": 6,
   "metadata": {
    "collapsed": false
   },
   "outputs": [
    {
     "data": {
      "text/plain": [
       "[1, 2, 3, 4, 5, 7, 8, 9]"
      ]
     },
     "execution_count": 6,
     "metadata": {},
     "output_type": "execute_result"
    }
   ],
   "source": [
    "my_list"
   ]
  },
  {
   "cell_type": "code",
   "execution_count": 7,
   "metadata": {
    "collapsed": false
   },
   "outputs": [
    {
     "data": {
      "text/plain": [
       "1"
      ]
     },
     "execution_count": 7,
     "metadata": {},
     "output_type": "execute_result"
    }
   ],
   "source": [
    "#count no of 1's in the list\n",
    "my_list.count(1)"
   ]
  },
  {
   "cell_type": "code",
   "execution_count": 8,
   "metadata": {
    "collapsed": false
   },
   "outputs": [
    {
     "data": {
      "text/plain": [
       "0"
      ]
     },
     "execution_count": 8,
     "metadata": {},
     "output_type": "execute_result"
    }
   ],
   "source": [
    "#index of 1 in the list\n",
    "my_list.index(1)"
   ]
  },
  {
   "cell_type": "code",
   "execution_count": 9,
   "metadata": {
    "collapsed": true
   },
   "outputs": [],
   "source": [
    "#insert 2 at 0th position in the list\n",
    "my_list.insert(0,2)"
   ]
  },
  {
   "cell_type": "code",
   "execution_count": 12,
   "metadata": {
    "collapsed": false
   },
   "outputs": [
    {
     "data": {
      "text/plain": [
       "[2, 1, 2, 3, 4, 5, 7, 8, 9]"
      ]
     },
     "execution_count": 12,
     "metadata": {},
     "output_type": "execute_result"
    }
   ],
   "source": [
    "my_list"
   ]
  },
  {
   "cell_type": "code",
   "execution_count": 15,
   "metadata": {
    "collapsed": false
   },
   "outputs": [
    {
     "data": {
      "text/plain": [
       "2"
      ]
     },
     "execution_count": 15,
     "metadata": {},
     "output_type": "execute_result"
    }
   ],
   "source": [
    "#pops the 3rd element from the list\n",
    "my_list.pop(2)"
   ]
  },
  {
   "cell_type": "code",
   "execution_count": 16,
   "metadata": {
    "collapsed": false
   },
   "outputs": [
    {
     "data": {
      "text/plain": [
       "[2, 1, 3, 4, 5, 7, 8, 9]"
      ]
     },
     "execution_count": 16,
     "metadata": {},
     "output_type": "execute_result"
    }
   ],
   "source": [
    "my_list"
   ]
  },
  {
   "cell_type": "code",
   "execution_count": 17,
   "metadata": {
    "collapsed": true
   },
   "outputs": [],
   "source": [
    "#removes 8 from the list\n",
    "my_list.remove(8)"
   ]
  },
  {
   "cell_type": "code",
   "execution_count": 18,
   "metadata": {
    "collapsed": false
   },
   "outputs": [
    {
     "data": {
      "text/plain": [
       "[2, 1, 3, 4, 5, 7, 9]"
      ]
     },
     "execution_count": 18,
     "metadata": {},
     "output_type": "execute_result"
    }
   ],
   "source": [
    "my_list"
   ]
  },
  {
   "cell_type": "code",
   "execution_count": 19,
   "metadata": {
    "collapsed": true
   },
   "outputs": [],
   "source": [
    "#sorts the list\n",
    "my_list.sort()"
   ]
  },
  {
   "cell_type": "code",
   "execution_count": 20,
   "metadata": {
    "collapsed": false
   },
   "outputs": [
    {
     "data": {
      "text/plain": [
       "[1, 2, 3, 4, 5, 7, 9]"
      ]
     },
     "execution_count": 20,
     "metadata": {},
     "output_type": "execute_result"
    }
   ],
   "source": [
    "my_list"
   ]
  },
  {
   "cell_type": "code",
   "execution_count": 21,
   "metadata": {
    "collapsed": false
   },
   "outputs": [
    {
     "name": "stdout",
     "output_type": "stream",
     "text": [
      "Union of set1 and set2 is {0, 1, 2, 3, 4, 5, 6, 8}\n",
      "Intersection of set1 and set2 is {2, 4}\n",
      "Difference of set1 and set2 is {8, 0, 6}\n",
      "Symmetric difference of set1 and set2 is {0, 1, 3, 5, 6, 8}\n"
     ]
    }
   ],
   "source": [
    "set1 = {0, 2, 4, 6, 8};\n",
    "set2 = {1, 2, 3, 4, 5};\n",
    "\n",
    "# set union\n",
    "print(\"Union of set1 and set2 is\",set1 | set2)\n",
    "\n",
    "# set intersection\n",
    "print(\"Intersection of set1 and set2 is\",set1 & set2)\n",
    "\n",
    "# set difference\n",
    "print(\"Difference of set1 and set2 is\",set1 - set2)\n",
    "\n",
    "# set symmetric difference\n",
    "print(\"Symmetric difference of set1 and set2 is\",set1 ^ set2)"
   ]
  },
  {
   "cell_type": "code",
   "execution_count": 23,
   "metadata": {
    "collapsed": false
   },
   "outputs": [
    {
     "name": "stdout",
     "output_type": "stream",
     "text": [
      "Hello World\n",
      "hello world\n",
      "HELLO WORLD\n",
      "Hello World\n",
      "True\n",
      "False\n",
      "0\n",
      "Hi World\n",
      "larry curly moe\n",
      "The meaning of life is 42\n",
      "ham and cheese\n",
      "raining cats and dogs\n",
      "pi is 3.14\n",
      "['Hello', 'World']\n",
      "FizzBuzz\n",
      "42\n",
      "10\n",
      "I like\n"
     ]
    }
   ],
   "source": [
    "#Basic string methods\n",
    "string = 'Hello World'\n",
    "print(string)\n",
    "print(string.lower())\n",
    "print(string.upper())\n",
    "print(string.title())\n",
    "print(string.startswith('H'))\n",
    "print(string.endswith('world'))\n",
    "print(string.find('Hello'))\n",
    "\n",
    "# replaces all instances of 'Hello' with 'Hi'\n",
    "print(string.replace('Hello', 'Hi'))\n",
    "\n",
    "# join a list of strings into one string using a delimiter\n",
    "stooges = ['larry', 'curly', 'moe']\n",
    "print(' '.join(stooges))\n",
    "\n",
    "# concatenate strings\n",
    "s3 = 'The meaning of life is'\n",
    "s4 = '42'\n",
    "print(s3 + ' ' + s4)\n",
    "\n",
    "#Remove whitespace from the start and end of a string:\n",
    "s5 = '  ham and cheese  '\n",
    "print(s5.strip())\n",
    "\n",
    "#String substitutions\n",
    "print('raining {} and {}'.format('cats', 'dogs'))\n",
    "\n",
    "#String formatting \n",
    "# use 2 decimal places\n",
    "print('pi is {:.2f}'.format(3.14159))\n",
    "\n",
    "\n",
    "#splitting a string on space\n",
    "print(string.split(' '))\n",
    "a = \"Fizz\" + \"Buzz\"\n",
    "print(a)\n",
    "\n",
    "# convert another data type into a string\n",
    "s = str(42)\n",
    "print(s)\n",
    "\n",
    "\n",
    "#length of a  string\n",
    "s1 = 'I like you'\n",
    "print(len(s1))\n",
    "\n",
    "\n",
    "#String slicing\n",
    "print(s1[:6])\n",
    "\n",
    "\n"
   ]
  },
  {
   "cell_type": "code",
   "execution_count": 24,
   "metadata": {
    "collapsed": false
   },
   "outputs": [
    {
     "name": "stdout",
     "output_type": "stream",
     "text": [
      "two\n",
      "3\n",
      "1\n",
      "1\n",
      "(0, 1, 'two', 3, 4)\n",
      "[(10, 40), (20, 30), (20, 60)]\n",
      "male\n",
      "10\n",
      "simpson\n"
     ]
    }
   ],
   "source": [
    "# create a tuple directly\n",
    "digits = (0, 1, 'two')\n",
    "\n",
    "#Examine a tuple\n",
    "print(digits[2])\n",
    "\n",
    "#length a tuple\n",
    "print(len(digits))\n",
    "\n",
    "# counts the number of instances of that value\n",
    "print(digits.count(0))\n",
    "\n",
    "# returns the index of the first instance of that value\n",
    "print(digits.index(1))\n",
    "\n",
    "# elements of a tuple cannot be modified (this would throw an error)\n",
    "# digits[2] = 2\n",
    "\n",
    "# concatenate tuples\n",
    "digits = digits + (3, 4)\n",
    "print(digits)\n",
    "\n",
    "# create a single tuple with elements repeated (also works with lists)\n",
    "(3, 4) * 2\n",
    "\n",
    "# sort a list of tuples\n",
    "tens = [(20, 60), (10, 40), (20, 30)]\n",
    "print(sorted(tens) )   # sorts by first element in tuple, then second element\n",
    "\n",
    "# tuple unpacking\n",
    "bart = ('male', 10, 'simpson')    # create a tuple\n",
    "(sex, age, surname) = bart        # assign three values at once\n",
    "print(sex)\n",
    "print(age)\n",
    "print(surname)\n",
    "\n"
   ]
  },
  {
   "cell_type": "code",
   "execution_count": null,
   "metadata": {
    "collapsed": true
   },
   "outputs": [],
   "source": []
  }
 ],
 "metadata": {
  "anaconda-cloud": {},
  "kernelspec": {
   "display_name": "Python 3",
   "language": "python",
   "name": "python3"
  },
  "language_info": {
   "codemirror_mode": {
    "name": "ipython",
    "version": 3
   },
   "file_extension": ".py",
   "mimetype": "text/x-python",
   "name": "python",
   "nbconvert_exporter": "python",
   "pygments_lexer": "ipython3",
   "version": "3.5.2"
  }
 },
 "nbformat": 4,
 "nbformat_minor": 1
}
